{
 "cells": [
  {
   "cell_type": "code",
   "execution_count": 235,
   "id": "18099378-5645-499d-828f-416294f891f3",
   "metadata": {},
   "outputs": [],
   "source": [
    "import numpy as np\n",
    "import pandas as pd\n",
    "import seaborn as sns\n",
    "import matplotlib.pyplot as plt\n",
    "%matplotlib inline"
   ]
  },
  {
   "cell_type": "code",
   "execution_count": 237,
   "id": "f26c75b5-3b0d-4ab7-8c08-d3c37ee8bcd2",
   "metadata": {},
   "outputs": [],
   "source": [
    "read_me= pd.read_csv('/Users/HP/Desktop/archive/output.csv')"
   ]
  },
  {
   "cell_type": "code",
   "execution_count": 239,
   "id": "29c29866-c2bd-439b-8c53-2ccace5ad569",
   "metadata": {},
   "outputs": [
    {
     "data": {
      "text/html": [
       "<div>\n",
       "<style scoped>\n",
       "    .dataframe tbody tr th:only-of-type {\n",
       "        vertical-align: middle;\n",
       "    }\n",
       "\n",
       "    .dataframe tbody tr th {\n",
       "        vertical-align: top;\n",
       "    }\n",
       "\n",
       "    .dataframe thead th {\n",
       "        text-align: right;\n",
       "    }\n",
       "</style>\n",
       "<table border=\"1\" class=\"dataframe\">\n",
       "  <thead>\n",
       "    <tr style=\"text-align: right;\">\n",
       "      <th></th>\n",
       "      <th>Number</th>\n",
       "      <th>Sex</th>\n",
       "      <th>%Red Pixel</th>\n",
       "      <th>%Green pixel</th>\n",
       "      <th>%Blue pixel</th>\n",
       "      <th>Hb</th>\n",
       "      <th>Anaemic</th>\n",
       "    </tr>\n",
       "  </thead>\n",
       "  <tbody>\n",
       "    <tr>\n",
       "      <th>0</th>\n",
       "      <td>1</td>\n",
       "      <td>M</td>\n",
       "      <td>43.2555</td>\n",
       "      <td>30.8421</td>\n",
       "      <td>25.9025</td>\n",
       "      <td>6.3</td>\n",
       "      <td>Yes</td>\n",
       "    </tr>\n",
       "    <tr>\n",
       "      <th>1</th>\n",
       "      <td>2</td>\n",
       "      <td>F</td>\n",
       "      <td>45.6033</td>\n",
       "      <td>28.1900</td>\n",
       "      <td>26.2067</td>\n",
       "      <td>13.5</td>\n",
       "      <td>No</td>\n",
       "    </tr>\n",
       "    <tr>\n",
       "      <th>2</th>\n",
       "      <td>3</td>\n",
       "      <td>F</td>\n",
       "      <td>45.0107</td>\n",
       "      <td>28.9677</td>\n",
       "      <td>26.0215</td>\n",
       "      <td>11.7</td>\n",
       "      <td>No</td>\n",
       "    </tr>\n",
       "    <tr>\n",
       "      <th>3</th>\n",
       "      <td>4</td>\n",
       "      <td>F</td>\n",
       "      <td>44.5398</td>\n",
       "      <td>28.9899</td>\n",
       "      <td>26.4703</td>\n",
       "      <td>13.5</td>\n",
       "      <td>No</td>\n",
       "    </tr>\n",
       "    <tr>\n",
       "      <th>4</th>\n",
       "      <td>5</td>\n",
       "      <td>M</td>\n",
       "      <td>43.2870</td>\n",
       "      <td>30.6972</td>\n",
       "      <td>26.0158</td>\n",
       "      <td>12.4</td>\n",
       "      <td>No</td>\n",
       "    </tr>\n",
       "    <tr>\n",
       "      <th>...</th>\n",
       "      <td>...</td>\n",
       "      <td>...</td>\n",
       "      <td>...</td>\n",
       "      <td>...</td>\n",
       "      <td>...</td>\n",
       "      <td>...</td>\n",
       "      <td>...</td>\n",
       "    </tr>\n",
       "    <tr>\n",
       "      <th>99</th>\n",
       "      <td>100</td>\n",
       "      <td>F</td>\n",
       "      <td>49.9999</td>\n",
       "      <td>29.2860</td>\n",
       "      <td>20.7141</td>\n",
       "      <td>14.5</td>\n",
       "      <td>Yes</td>\n",
       "    </tr>\n",
       "    <tr>\n",
       "      <th>100</th>\n",
       "      <td>101</td>\n",
       "      <td>M</td>\n",
       "      <td>42.2324</td>\n",
       "      <td>30.6757</td>\n",
       "      <td>27.0919</td>\n",
       "      <td>6.3</td>\n",
       "      <td>Yes</td>\n",
       "    </tr>\n",
       "    <tr>\n",
       "      <th>101</th>\n",
       "      <td>102</td>\n",
       "      <td>F</td>\n",
       "      <td>45.6064</td>\n",
       "      <td>31.9084</td>\n",
       "      <td>22.4852</td>\n",
       "      <td>12.7</td>\n",
       "      <td>No</td>\n",
       "    </tr>\n",
       "    <tr>\n",
       "      <th>102</th>\n",
       "      <td>103</td>\n",
       "      <td>M</td>\n",
       "      <td>45.2095</td>\n",
       "      <td>29.2769</td>\n",
       "      <td>25.5136</td>\n",
       "      <td>13.4</td>\n",
       "      <td>No</td>\n",
       "    </tr>\n",
       "    <tr>\n",
       "      <th>103</th>\n",
       "      <td>104</td>\n",
       "      <td>F</td>\n",
       "      <td>43.5706</td>\n",
       "      <td>29.8094</td>\n",
       "      <td>26.6199</td>\n",
       "      <td>12.2</td>\n",
       "      <td>No</td>\n",
       "    </tr>\n",
       "  </tbody>\n",
       "</table>\n",
       "<p>104 rows × 7 columns</p>\n",
       "</div>"
      ],
      "text/plain": [
       "     Number Sex  %Red Pixel  %Green pixel  %Blue pixel    Hb Anaemic\n",
       "0         1   M     43.2555       30.8421      25.9025   6.3     Yes\n",
       "1         2   F     45.6033       28.1900      26.2067  13.5      No\n",
       "2         3  F      45.0107       28.9677      26.0215  11.7      No\n",
       "3         4   F     44.5398       28.9899      26.4703  13.5      No\n",
       "4         5  M      43.2870       30.6972      26.0158  12.4      No\n",
       "..      ...  ..         ...           ...          ...   ...     ...\n",
       "99      100  F      49.9999       29.2860      20.7141  14.5     Yes\n",
       "100     101  M      42.2324       30.6757      27.0919   6.3     Yes\n",
       "101     102   F     45.6064       31.9084      22.4852  12.7      No\n",
       "102     103  M      45.2095       29.2769      25.5136  13.4      No\n",
       "103     104   F     43.5706       29.8094      26.6199  12.2      No\n",
       "\n",
       "[104 rows x 7 columns]"
      ]
     },
     "execution_count": 239,
     "metadata": {},
     "output_type": "execute_result"
    }
   ],
   "source": [
    "read_me"
   ]
  },
  {
   "cell_type": "code",
   "execution_count": 241,
   "id": "fa04448e-18f7-45dc-808b-0cede96ec778",
   "metadata": {},
   "outputs": [],
   "source": [
    "def new_sex(sex):\n",
    "    if sex[0]=='M':\n",
    "        return '1'\n",
    "    else:\n",
    "        return '0'"
   ]
  },
  {
   "cell_type": "code",
   "execution_count": 243,
   "id": "26fe0994-c17b-4d10-a577-bf83e8712e40",
   "metadata": {},
   "outputs": [],
   "source": [
    "def new_An(Anae):\n",
    "    if Anae[0]=='Y':\n",
    "        return '1'\n",
    "    else:\n",
    "        return '0'"
   ]
  },
  {
   "cell_type": "code",
   "execution_count": 245,
   "id": "9f19a3a9-566b-4ab3-bf82-3742dfd27f46",
   "metadata": {},
   "outputs": [],
   "source": [
    "read_me['Sex']= read_me['Sex'].apply(new_sex)"
   ]
  },
  {
   "cell_type": "code",
   "execution_count": 247,
   "id": "1095233c-2da3-4cd3-a393-4adab55e594f",
   "metadata": {},
   "outputs": [],
   "source": [
    "read_me['Anaemic']= read_me['Anaemic'].apply(new_An)"
   ]
  },
  {
   "cell_type": "code",
   "execution_count": 249,
   "id": "c20a9cf7-fa29-4193-ac20-051197eb05e9",
   "metadata": {},
   "outputs": [],
   "source": [
    "X=read_me.drop('Anaemic',axis=1)\n",
    "Y=read_me['Anaemic']"
   ]
  },
  {
   "cell_type": "code",
   "execution_count": 251,
   "id": "303fed5b-eeba-4a78-9413-83ac3e1d66d5",
   "metadata": {},
   "outputs": [],
   "source": [
    "from sklearn.model_selection import train_test_split"
   ]
  },
  {
   "cell_type": "code",
   "execution_count": 253,
   "id": "c336dd0c-ce32-49a1-93f7-61e9953d7350",
   "metadata": {},
   "outputs": [],
   "source": [
    "X_train,X_test,Y_train,Y_test= train_test_split(X,Y, test_size=0.3, random_state=101)"
   ]
  },
  {
   "cell_type": "code",
   "execution_count": 255,
   "id": "ed831a5f-dcf4-4d26-9341-e9daee933d16",
   "metadata": {},
   "outputs": [],
   "source": [
    "from sklearn.linear_model import LinearRegression"
   ]
  },
  {
   "cell_type": "code",
   "execution_count": 257,
   "id": "0ec6d996-79d7-4bff-8631-4d110958f479",
   "metadata": {},
   "outputs": [],
   "source": [
    "first_model= LinearRegression()"
   ]
  },
  {
   "cell_type": "code",
   "execution_count": 259,
   "id": "d6550cd3-b360-4458-8411-8dccfef24e1c",
   "metadata": {},
   "outputs": [
    {
     "data": {
      "text/html": [
       "<style>#sk-container-id-4 {color: black;background-color: white;}#sk-container-id-4 pre{padding: 0;}#sk-container-id-4 div.sk-toggleable {background-color: white;}#sk-container-id-4 label.sk-toggleable__label {cursor: pointer;display: block;width: 100%;margin-bottom: 0;padding: 0.3em;box-sizing: border-box;text-align: center;}#sk-container-id-4 label.sk-toggleable__label-arrow:before {content: \"▸\";float: left;margin-right: 0.25em;color: #696969;}#sk-container-id-4 label.sk-toggleable__label-arrow:hover:before {color: black;}#sk-container-id-4 div.sk-estimator:hover label.sk-toggleable__label-arrow:before {color: black;}#sk-container-id-4 div.sk-toggleable__content {max-height: 0;max-width: 0;overflow: hidden;text-align: left;background-color: #f0f8ff;}#sk-container-id-4 div.sk-toggleable__content pre {margin: 0.2em;color: black;border-radius: 0.25em;background-color: #f0f8ff;}#sk-container-id-4 input.sk-toggleable__control:checked~div.sk-toggleable__content {max-height: 200px;max-width: 100%;overflow: auto;}#sk-container-id-4 input.sk-toggleable__control:checked~label.sk-toggleable__label-arrow:before {content: \"▾\";}#sk-container-id-4 div.sk-estimator input.sk-toggleable__control:checked~label.sk-toggleable__label {background-color: #d4ebff;}#sk-container-id-4 div.sk-label input.sk-toggleable__control:checked~label.sk-toggleable__label {background-color: #d4ebff;}#sk-container-id-4 input.sk-hidden--visually {border: 0;clip: rect(1px 1px 1px 1px);clip: rect(1px, 1px, 1px, 1px);height: 1px;margin: -1px;overflow: hidden;padding: 0;position: absolute;width: 1px;}#sk-container-id-4 div.sk-estimator {font-family: monospace;background-color: #f0f8ff;border: 1px dotted black;border-radius: 0.25em;box-sizing: border-box;margin-bottom: 0.5em;}#sk-container-id-4 div.sk-estimator:hover {background-color: #d4ebff;}#sk-container-id-4 div.sk-parallel-item::after {content: \"\";width: 100%;border-bottom: 1px solid gray;flex-grow: 1;}#sk-container-id-4 div.sk-label:hover label.sk-toggleable__label {background-color: #d4ebff;}#sk-container-id-4 div.sk-serial::before {content: \"\";position: absolute;border-left: 1px solid gray;box-sizing: border-box;top: 0;bottom: 0;left: 50%;z-index: 0;}#sk-container-id-4 div.sk-serial {display: flex;flex-direction: column;align-items: center;background-color: white;padding-right: 0.2em;padding-left: 0.2em;position: relative;}#sk-container-id-4 div.sk-item {position: relative;z-index: 1;}#sk-container-id-4 div.sk-parallel {display: flex;align-items: stretch;justify-content: center;background-color: white;position: relative;}#sk-container-id-4 div.sk-item::before, #sk-container-id-4 div.sk-parallel-item::before {content: \"\";position: absolute;border-left: 1px solid gray;box-sizing: border-box;top: 0;bottom: 0;left: 50%;z-index: -1;}#sk-container-id-4 div.sk-parallel-item {display: flex;flex-direction: column;z-index: 1;position: relative;background-color: white;}#sk-container-id-4 div.sk-parallel-item:first-child::after {align-self: flex-end;width: 50%;}#sk-container-id-4 div.sk-parallel-item:last-child::after {align-self: flex-start;width: 50%;}#sk-container-id-4 div.sk-parallel-item:only-child::after {width: 0;}#sk-container-id-4 div.sk-dashed-wrapped {border: 1px dashed gray;margin: 0 0.4em 0.5em 0.4em;box-sizing: border-box;padding-bottom: 0.4em;background-color: white;}#sk-container-id-4 div.sk-label label {font-family: monospace;font-weight: bold;display: inline-block;line-height: 1.2em;}#sk-container-id-4 div.sk-label-container {text-align: center;}#sk-container-id-4 div.sk-container {/* jupyter's `normalize.less` sets `[hidden] { display: none; }` but bootstrap.min.css set `[hidden] { display: none !important; }` so we also need the `!important` here to be able to override the default hidden behavior on the sphinx rendered scikit-learn.org. See: https://github.com/scikit-learn/scikit-learn/issues/21755 */display: inline-block !important;position: relative;}#sk-container-id-4 div.sk-text-repr-fallback {display: none;}</style><div id=\"sk-container-id-4\" class=\"sk-top-container\"><div class=\"sk-text-repr-fallback\"><pre>LinearRegression()</pre><b>In a Jupyter environment, please rerun this cell to show the HTML representation or trust the notebook. <br />On GitHub, the HTML representation is unable to render, please try loading this page with nbviewer.org.</b></div><div class=\"sk-container\" hidden><div class=\"sk-item\"><div class=\"sk-estimator sk-toggleable\"><input class=\"sk-toggleable__control sk-hidden--visually\" id=\"sk-estimator-id-4\" type=\"checkbox\" checked><label for=\"sk-estimator-id-4\" class=\"sk-toggleable__label sk-toggleable__label-arrow\">LinearRegression</label><div class=\"sk-toggleable__content\"><pre>LinearRegression()</pre></div></div></div></div></div>"
      ],
      "text/plain": [
       "LinearRegression()"
      ]
     },
     "execution_count": 259,
     "metadata": {},
     "output_type": "execute_result"
    }
   ],
   "source": [
    "first_model.fit(X_train,Y_train)"
   ]
  },
  {
   "cell_type": "code",
   "execution_count": 261,
   "id": "188429db-03b4-4144-b42b-63b698d0a64f",
   "metadata": {},
   "outputs": [],
   "source": [
    "predictions= first_model.predict(X_test)"
   ]
  },
  {
   "cell_type": "code",
   "execution_count": 263,
   "id": "dc249a89-17a2-4a26-98e5-7e8f0321e027",
   "metadata": {},
   "outputs": [
    {
     "data": {
      "text/plain": [
       "array([ 3.73054833e-01,  1.34698424e-01, -2.69810329e-01,  2.66045321e-01,\n",
       "        4.80846293e-01, -1.91297199e-01,  1.52401605e+00,  4.87399688e-04,\n",
       "        4.57590020e-02, -3.62156399e-01,  2.51948333e-01, -1.14779175e-01,\n",
       "        8.18149829e-02, -1.79950484e-01,  2.33647506e-01,  3.97251323e-02,\n",
       "        5.82054106e-01,  3.22212968e-02,  1.75602706e-01,  8.45609525e-01,\n",
       "        5.82062924e-01, -2.78166950e-01,  7.24323402e-01,  2.68937077e-01,\n",
       "        7.54343968e-02, -4.31250046e-02,  1.71156986e-01,  7.55030243e-01,\n",
       "        3.86701321e-01, -3.01108527e-01,  6.32498536e-01,  3.93749425e-01])"
      ]
     },
     "execution_count": 263,
     "metadata": {},
     "output_type": "execute_result"
    }
   ],
   "source": [
    "predictions"
   ]
  },
  {
   "cell_type": "code",
   "execution_count": 271,
   "id": "3ddd41c5-c008-45b2-ad27-f4eb2c57ddc7",
   "metadata": {},
   "outputs": [
    {
     "data": {
      "text/plain": [
       "85    0\n",
       "35    0\n",
       "48    0\n",
       "47    0\n",
       "82    1\n",
       "42    0\n",
       "58    1\n",
       "80    0\n",
       "3     0\n",
       "41    0\n",
       "2     0\n",
       "26    0\n",
       "43    0\n",
       "14    0\n",
       "60    0\n",
       "45    0\n",
       "19    1\n",
       "1     0\n",
       "96    0\n",
       "79    1\n",
       "71    1\n",
       "95    0\n",
       "68    1\n",
       "38    0\n",
       "52    0\n",
       "74    0\n",
       "97    0\n",
       "94    1\n",
       "70    0\n",
       "83    0\n",
       "66    1\n",
       "87    0\n",
       "Name: Anaemic, dtype: object"
      ]
     },
     "execution_count": 271,
     "metadata": {},
     "output_type": "execute_result"
    }
   ],
   "source": [
    "Y_test"
   ]
  },
  {
   "cell_type": "code",
   "execution_count": 273,
   "id": "04d34cfa-1fef-4d4d-8326-c1b25485fc16",
   "metadata": {},
   "outputs": [],
   "source": [
    "from sklearn import metrics"
   ]
  },
  {
   "cell_type": "code",
   "execution_count": 275,
   "id": "3ec8796f-9b66-4183-acd9-b8a795b64444",
   "metadata": {},
   "outputs": [
    {
     "name": "stdout",
     "output_type": "stream",
     "text": [
      "MAE: 0.23728028856226047\n",
      "MSE: 0.07639581037167179\n",
      "RMSE: 0.27639792034614113\n"
     ]
    }
   ],
   "source": [
    "print('MAE:', metrics.mean_absolute_error(Y_test,predictions))\n",
    "print('MSE:', metrics.mean_squared_error(Y_test,predictions))\n",
    "print('RMSE:', np.sqrt(metrics.mean_squared_error(Y_test,predictions)))"
   ]
  },
  {
   "cell_type": "code",
   "execution_count": 281,
   "id": "32b0fab9-d209-4848-bbfb-2788a899d9bb",
   "metadata": {},
   "outputs": [],
   "source": [
    "#USING THE LOGISTIC REGRESSION MODEL"
   ]
  },
  {
   "cell_type": "code",
   "execution_count": 283,
   "id": "7d97f347-e633-4b68-bd3b-8409c7bd4176",
   "metadata": {},
   "outputs": [],
   "source": [
    "from sklearn.linear_model import LogisticRegression"
   ]
  },
  {
   "cell_type": "code",
   "execution_count": 285,
   "id": "70e9536d-6f4f-44e2-b251-795e17f57378",
   "metadata": {},
   "outputs": [],
   "source": [
    "second_model= LogisticRegression()"
   ]
  },
  {
   "cell_type": "code",
   "execution_count": 287,
   "id": "5cabc8fc-5fdc-4c56-b3eb-e80cdd46d37c",
   "metadata": {},
   "outputs": [
    {
     "data": {
      "text/html": [
       "<style>#sk-container-id-5 {color: black;background-color: white;}#sk-container-id-5 pre{padding: 0;}#sk-container-id-5 div.sk-toggleable {background-color: white;}#sk-container-id-5 label.sk-toggleable__label {cursor: pointer;display: block;width: 100%;margin-bottom: 0;padding: 0.3em;box-sizing: border-box;text-align: center;}#sk-container-id-5 label.sk-toggleable__label-arrow:before {content: \"▸\";float: left;margin-right: 0.25em;color: #696969;}#sk-container-id-5 label.sk-toggleable__label-arrow:hover:before {color: black;}#sk-container-id-5 div.sk-estimator:hover label.sk-toggleable__label-arrow:before {color: black;}#sk-container-id-5 div.sk-toggleable__content {max-height: 0;max-width: 0;overflow: hidden;text-align: left;background-color: #f0f8ff;}#sk-container-id-5 div.sk-toggleable__content pre {margin: 0.2em;color: black;border-radius: 0.25em;background-color: #f0f8ff;}#sk-container-id-5 input.sk-toggleable__control:checked~div.sk-toggleable__content {max-height: 200px;max-width: 100%;overflow: auto;}#sk-container-id-5 input.sk-toggleable__control:checked~label.sk-toggleable__label-arrow:before {content: \"▾\";}#sk-container-id-5 div.sk-estimator input.sk-toggleable__control:checked~label.sk-toggleable__label {background-color: #d4ebff;}#sk-container-id-5 div.sk-label input.sk-toggleable__control:checked~label.sk-toggleable__label {background-color: #d4ebff;}#sk-container-id-5 input.sk-hidden--visually {border: 0;clip: rect(1px 1px 1px 1px);clip: rect(1px, 1px, 1px, 1px);height: 1px;margin: -1px;overflow: hidden;padding: 0;position: absolute;width: 1px;}#sk-container-id-5 div.sk-estimator {font-family: monospace;background-color: #f0f8ff;border: 1px dotted black;border-radius: 0.25em;box-sizing: border-box;margin-bottom: 0.5em;}#sk-container-id-5 div.sk-estimator:hover {background-color: #d4ebff;}#sk-container-id-5 div.sk-parallel-item::after {content: \"\";width: 100%;border-bottom: 1px solid gray;flex-grow: 1;}#sk-container-id-5 div.sk-label:hover label.sk-toggleable__label {background-color: #d4ebff;}#sk-container-id-5 div.sk-serial::before {content: \"\";position: absolute;border-left: 1px solid gray;box-sizing: border-box;top: 0;bottom: 0;left: 50%;z-index: 0;}#sk-container-id-5 div.sk-serial {display: flex;flex-direction: column;align-items: center;background-color: white;padding-right: 0.2em;padding-left: 0.2em;position: relative;}#sk-container-id-5 div.sk-item {position: relative;z-index: 1;}#sk-container-id-5 div.sk-parallel {display: flex;align-items: stretch;justify-content: center;background-color: white;position: relative;}#sk-container-id-5 div.sk-item::before, #sk-container-id-5 div.sk-parallel-item::before {content: \"\";position: absolute;border-left: 1px solid gray;box-sizing: border-box;top: 0;bottom: 0;left: 50%;z-index: -1;}#sk-container-id-5 div.sk-parallel-item {display: flex;flex-direction: column;z-index: 1;position: relative;background-color: white;}#sk-container-id-5 div.sk-parallel-item:first-child::after {align-self: flex-end;width: 50%;}#sk-container-id-5 div.sk-parallel-item:last-child::after {align-self: flex-start;width: 50%;}#sk-container-id-5 div.sk-parallel-item:only-child::after {width: 0;}#sk-container-id-5 div.sk-dashed-wrapped {border: 1px dashed gray;margin: 0 0.4em 0.5em 0.4em;box-sizing: border-box;padding-bottom: 0.4em;background-color: white;}#sk-container-id-5 div.sk-label label {font-family: monospace;font-weight: bold;display: inline-block;line-height: 1.2em;}#sk-container-id-5 div.sk-label-container {text-align: center;}#sk-container-id-5 div.sk-container {/* jupyter's `normalize.less` sets `[hidden] { display: none; }` but bootstrap.min.css set `[hidden] { display: none !important; }` so we also need the `!important` here to be able to override the default hidden behavior on the sphinx rendered scikit-learn.org. See: https://github.com/scikit-learn/scikit-learn/issues/21755 */display: inline-block !important;position: relative;}#sk-container-id-5 div.sk-text-repr-fallback {display: none;}</style><div id=\"sk-container-id-5\" class=\"sk-top-container\"><div class=\"sk-text-repr-fallback\"><pre>LogisticRegression()</pre><b>In a Jupyter environment, please rerun this cell to show the HTML representation or trust the notebook. <br />On GitHub, the HTML representation is unable to render, please try loading this page with nbviewer.org.</b></div><div class=\"sk-container\" hidden><div class=\"sk-item\"><div class=\"sk-estimator sk-toggleable\"><input class=\"sk-toggleable__control sk-hidden--visually\" id=\"sk-estimator-id-5\" type=\"checkbox\" checked><label for=\"sk-estimator-id-5\" class=\"sk-toggleable__label sk-toggleable__label-arrow\">LogisticRegression</label><div class=\"sk-toggleable__content\"><pre>LogisticRegression()</pre></div></div></div></div></div>"
      ],
      "text/plain": [
       "LogisticRegression()"
      ]
     },
     "execution_count": 287,
     "metadata": {},
     "output_type": "execute_result"
    }
   ],
   "source": [
    "second_model.fit(X_train,Y_train)"
   ]
  },
  {
   "cell_type": "code",
   "execution_count": 288,
   "id": "f5176c38-7ebb-4e8a-80c0-e83f8ec8aa57",
   "metadata": {},
   "outputs": [],
   "source": [
    "predictions= second_model.predict(X_test)"
   ]
  },
  {
   "cell_type": "code",
   "execution_count": 291,
   "id": "595a5d34-3331-4775-84d2-386b196bcc28",
   "metadata": {},
   "outputs": [
    {
     "data": {
      "text/plain": [
       "array(['0', '0', '0', '0', '0', '0', '1', '0', '0', '0', '0', '0', '0',\n",
       "       '0', '0', '0', '1', '0', '0', '1', '1', '0', '1', '0', '0', '0',\n",
       "       '0', '1', '0', '0', '1', '0'], dtype=object)"
      ]
     },
     "execution_count": 291,
     "metadata": {},
     "output_type": "execute_result"
    }
   ],
   "source": [
    "predictions"
   ]
  },
  {
   "cell_type": "code",
   "execution_count": 293,
   "id": "2c37b7a2-e841-449b-97ba-bd161bb31031",
   "metadata": {},
   "outputs": [],
   "source": [
    "from sklearn.metrics import classification_report,confusion_matrix"
   ]
  },
  {
   "cell_type": "code",
   "execution_count": 294,
   "id": "8deaea9a-dc8b-4b88-8fa3-cbc3a421cd5d",
   "metadata": {},
   "outputs": [
    {
     "name": "stdout",
     "output_type": "stream",
     "text": [
      "              precision    recall  f1-score   support\n",
      "\n",
      "           0       0.96      1.00      0.98        24\n",
      "           1       1.00      0.88      0.93         8\n",
      "\n",
      "    accuracy                           0.97        32\n",
      "   macro avg       0.98      0.94      0.96        32\n",
      "weighted avg       0.97      0.97      0.97        32\n",
      "\n"
     ]
    }
   ],
   "source": [
    "print(classification_report(Y_test,predictions))"
   ]
  },
  {
   "cell_type": "code",
   "execution_count": 297,
   "id": "d9cf3c37-1310-4c47-a3c5-83b0d46051f7",
   "metadata": {},
   "outputs": [
    {
     "name": "stdout",
     "output_type": "stream",
     "text": [
      "[[24  0]\n",
      " [ 1  7]]\n"
     ]
    }
   ],
   "source": [
    "print(confusion_matrix(Y_test,predictions))"
   ]
  },
  {
   "cell_type": "code",
   "execution_count": null,
   "id": "3a9d7567-7f69-40ff-a107-b41cd13d5822",
   "metadata": {},
   "outputs": [],
   "source": []
  }
 ],
 "metadata": {
  "kernelspec": {
   "display_name": "Python 3 (ipykernel)",
   "language": "python",
   "name": "python3"
  },
  "language_info": {
   "codemirror_mode": {
    "name": "ipython",
    "version": 3
   },
   "file_extension": ".py",
   "mimetype": "text/x-python",
   "name": "python",
   "nbconvert_exporter": "python",
   "pygments_lexer": "ipython3",
   "version": "3.11.7"
  }
 },
 "nbformat": 4,
 "nbformat_minor": 5
}
